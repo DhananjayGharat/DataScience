{
 "cells": [
  {
   "cell_type": "code",
   "execution_count": 1,
   "id": "80c43df4-7db8-43ba-97d1-32f5dfea6b9c",
   "metadata": {},
   "outputs": [],
   "source": [
    "#opening file in the read mode\n",
    "f = open(\"data.txt\", \"r\")"
   ]
  },
  {
   "cell_type": "code",
   "execution_count": 2,
   "id": "2455c00c-3ee4-412c-82b4-dd2de2e6a44e",
   "metadata": {},
   "outputs": [
    {
     "name": "stdout",
     "output_type": "stream",
     "text": [
      "Hiii\n",
      "I am learning python\n",
      "Appended line\n"
     ]
    }
   ],
   "source": [
    "#reading the file\n",
    "f = open(\"data.txt\", \"r\")\n",
    "print(f.read())      \n",
    "f.close()"
   ]
  },
  {
   "cell_type": "code",
   "execution_count": 3,
   "id": "422f2e49-8e18-47ed-a169-874c1411bf04",
   "metadata": {},
   "outputs": [
    {
     "name": "stdout",
     "output_type": "stream",
     "text": [
      "Hiii\n",
      "\n"
     ]
    }
   ],
   "source": [
    "#Read specific number of characters\n",
    "f = open(\"data.txt\", \"r\")\n",
    "print(f.read(5))  \n",
    "f.close()"
   ]
  },
  {
   "cell_type": "code",
   "execution_count": 4,
   "id": "dcb400d6-c914-4735-b5af-cae730185c7b",
   "metadata": {},
   "outputs": [
    {
     "name": "stdout",
     "output_type": "stream",
     "text": [
      "Hiii\n",
      "\n",
      "I am learning python\n",
      "\n"
     ]
    }
   ],
   "source": [
    "#Reading line by line\n",
    "f = open(\"data.txt\", \"r\")\n",
    "print(f.readline()) \n",
    "print(f.readline()) \n",
    "f.close()"
   ]
  },
  {
   "cell_type": "code",
   "execution_count": 5,
   "id": "4e29c034-cc55-491d-9691-976c71457ee8",
   "metadata": {},
   "outputs": [
    {
     "name": "stdout",
     "output_type": "stream",
     "text": [
      "['Hiii\\n', 'I am learning python\\n', 'Appended line']\n"
     ]
    }
   ],
   "source": [
    "#Reading all lines as list\n",
    "f = open(\"data.txt\", \"r\")\n",
    "lines = f.readlines()\n",
    "print(lines)\n",
    "f.close()"
   ]
  },
  {
   "cell_type": "code",
   "execution_count": 6,
   "id": "a8d8390b-a0a3-4a2d-8128-4c19cc0ac5a9",
   "metadata": {},
   "outputs": [],
   "source": [
    "#Writing new content in the file\n",
    "f = open(\"data.txt\", \"w\")\n",
    "f.write(\"Hiii\\nI am learning python\")\n",
    "f.close()"
   ]
  },
  {
   "cell_type": "code",
   "execution_count": null,
   "id": "2f154226-0f26-4426-bc98-e0a81e9ec10c",
   "metadata": {},
   "outputs": [],
   "source": []
  },
  {
   "cell_type": "code",
   "execution_count": 7,
   "id": "f71102cb-8ea8-409e-9346-d005420a356a",
   "metadata": {},
   "outputs": [],
   "source": [
    "#Appending content to the file\n",
    "f = open(\"data.txt\", \"a\")\n",
    "f.write(\"\\nAppended line\")\n",
    "f.close()"
   ]
  },
  {
   "cell_type": "code",
   "execution_count": 8,
   "id": "dcdabd67-2fb5-4d24-a2aa-930cef35466c",
   "metadata": {},
   "outputs": [],
   "source": [
    "#Write multiple lines using writelines()\n",
    "f = open(\"data.txt\", \"w\")\n",
    "f.writelines([\"Line1\\n\", \"Line2\\n\", \"Line3\\n\"])\n",
    "f.close()"
   ]
  },
  {
   "cell_type": "code",
   "execution_count": 33,
   "id": "a27b452b-93d4-499a-b2cc-a46e47824afd",
   "metadata": {},
   "outputs": [
    {
     "name": "stdout",
     "output_type": "stream",
     "text": [
      "Line1\n",
      "Line2\n",
      "Line3\n",
      "\n"
     ]
    }
   ],
   "source": [
    "#reading the file\n",
    "f = open(\"data.txt\", \"r\")\n",
    "print(f.read())      \n",
    "f.close()"
   ]
  },
  {
   "cell_type": "code",
   "execution_count": null,
   "id": "d6014d7f-1602-4f09-83bb-34f34f38514a",
   "metadata": {},
   "outputs": [],
   "source": []
  }
 ],
 "metadata": {
  "kernelspec": {
   "display_name": "Python [conda env:base] *",
   "language": "python",
   "name": "conda-base-py"
  },
  "language_info": {
   "codemirror_mode": {
    "name": "ipython",
    "version": 3
   },
   "file_extension": ".py",
   "mimetype": "text/x-python",
   "name": "python",
   "nbconvert_exporter": "python",
   "pygments_lexer": "ipython3",
   "version": "3.13.5"
  }
 },
 "nbformat": 4,
 "nbformat_minor": 5
}
