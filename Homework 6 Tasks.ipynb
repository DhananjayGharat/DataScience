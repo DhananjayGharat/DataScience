{
 "cells": [
  {
   "cell_type": "markdown",
   "id": "98d354bf-98e5-47fa-a3d8-eeb9f6e22b7b",
   "metadata": {},
   "source": [
    "# Name:- Dhananjay Dasharath Gharat\n",
    "# Class:- IF5K\n",
    "# Task:- Homework 6"
   ]
  },
  {
   "cell_type": "markdown",
   "id": "b6af043d",
   "metadata": {},
   "source": [
    "## 1) Scrape all product names and prices from the first two pages of \"Books to Scrape\" (http://books.toscrape.com/). Handle simple pagination and structure the output as a list of dictionaries with 'title' and 'price'."
   ]
  },
  {
   "cell_type": "code",
   "execution_count": 1,
   "id": "0702865b",
   "metadata": {},
   "outputs": [
    {
     "name": "stdout",
     "output_type": "stream",
     "text": [
      "Found 40 books.\n",
      "[{'title': 'A Light in the Attic', 'price': '£51.77'}, {'title': 'Tipping the Velvet', 'price': '£53.74'}, {'title': 'Soumission', 'price': '£50.10'}, {'title': 'Sharp Objects', 'price': '£47.82'}, {'title': 'Sapiens: A Brief History of Humankind', 'price': '£54.23'}, {'title': 'The Requiem Red', 'price': '£22.65'}, {'title': 'The Dirty Little Secrets of Getting Your Dream Job', 'price': '£33.34'}, {'title': 'The Coming Woman: A Novel Based on the Life of the Infamous Feminist, Victoria Woodhull', 'price': '£17.93'}, {'title': 'The Boys in the Boat: Nine Americans and Their Epic Quest for Gold at the 1936 Berlin Olympics', 'price': '£22.60'}, {'title': 'The Black Maria', 'price': '£52.15'}, {'title': 'Starving Hearts (Triangular Trade Trilogy, #1)', 'price': '£13.99'}, {'title': \"Shakespeare's Sonnets\", 'price': '£20.66'}, {'title': 'Set Me Free', 'price': '£17.46'}, {'title': \"Scott Pilgrim's Precious Little Life (Scott Pilgrim #1)\", 'price': '£52.29'}, {'title': 'Rip it Up and Start Again', 'price': '£35.02'}, {'title': 'Our Band Could Be Your Life: Scenes from the American Indie Underground, 1981-1991', 'price': '£57.25'}, {'title': 'Olio', 'price': '£23.88'}, {'title': 'Mesaerion: The Best Science Fiction Stories 1800-1849', 'price': '£37.59'}, {'title': 'Libertarianism for Beginners', 'price': '£51.33'}, {'title': \"It's Only the Himalayas\", 'price': '£45.17'}, {'title': 'In Her Wake', 'price': '£12.84'}, {'title': 'How Music Works', 'price': '£37.32'}, {'title': 'Foolproof Preserving: A Guide to Small Batch Jams, Jellies, Pickles, Condiments, and More: A Foolproof Guide to Making Small Batch Jams, Jellies, Pickles, Condiments, and More', 'price': '£30.52'}, {'title': 'Chase Me (Paris Nights #2)', 'price': '£25.27'}, {'title': 'Black Dust', 'price': '£34.53'}, {'title': 'Birdsong: A Story in Pictures', 'price': '£54.64'}, {'title': \"America's Cradle of Quarterbacks: Western Pennsylvania's Football Factory from Johnny Unitas to Joe Montana\", 'price': '£22.50'}, {'title': 'Aladdin and His Wonderful Lamp', 'price': '£53.13'}, {'title': 'Worlds Elsewhere: Journeys Around Shakespeare’s Globe', 'price': '£40.30'}, {'title': 'Wall and Piece', 'price': '£44.18'}, {'title': 'The Four Agreements: A Practical Guide to Personal Freedom', 'price': '£17.66'}, {'title': 'The Five Love Languages: How to Express Heartfelt Commitment to Your Mate', 'price': '£31.05'}, {'title': 'The Elephant Tree', 'price': '£23.82'}, {'title': 'The Bear and the Piano', 'price': '£36.89'}, {'title': \"Sophie's World\", 'price': '£15.94'}, {'title': 'Penny Maybe', 'price': '£33.29'}, {'title': 'Maude (1883-1993):She Grew Up with the country', 'price': '£18.02'}, {'title': 'In a Dark, Dark Wood', 'price': '£19.63'}, {'title': 'Behind Closed Doors', 'price': '£52.22'}, {'title': \"You can't bury them all: Poems\", 'price': '£33.63'}]\n"
     ]
    }
   ],
   "source": [
    "import requests\n",
    "from bs4 import BeautifulSoup\n",
    "\n",
    "base_url = \"http://books.toscrape.com/catalogue/\"\n",
    "urls = [base_url + \"page-1.html\", base_url + \"page-2.html\"]\n",
    "all_books = []\n",
    "\n",
    "for url in urls:\n",
    "    response = requests.get(url)\n",
    "    soup = BeautifulSoup(response.content, 'html.parser')\n",
    "    \n",
    "    articles = soup.find_all('article', class_='product_pod')\n",
    "    \n",
    "    for article in articles:\n",
    "        title = article.h3.a['title']\n",
    "        price = article.find('p', class_='price_color').text\n",
    "        book_data = {\n",
    "            'title': title,\n",
    "            'price': price\n",
    "        }\n",
    "        all_books.append(book_data)\n",
    "\n",
    "print(f\"Found {len(all_books)} books.\")\n",
    "print(all_books)"
   ]
  },
  {
   "cell_type": "markdown",
   "id": "22092b75",
   "metadata": {},
   "source": [
    "## 2) Extract the current weather descriptions (like ‘clear’, ‘cloudy’) and temperatures for at least five cities from a public weather site (such as https://www.weather.com or https://wttr.in). Present your data in a tabular format (city, description, temperature)."
   ]
  },
  {
   "cell_type": "code",
   "execution_count": 2,
   "id": "bcb3d100",
   "metadata": {},
   "outputs": [
    {
     "name": "stdout",
     "output_type": "stream",
     "text": [
      "       City         Description Temperature (C)\n",
      "0    London               Sunny              25\n",
      "1  New York               Sunny              27\n",
      "2     Tokyo  Patchy rain nearby              27\n",
      "3    Sydney   Light rain shower              12\n",
      "4     Paris               Sunny              24\n"
     ]
    }
   ],
   "source": [
    "import requests\n",
    "import pandas as pd\n",
    "\n",
    "cities = [\"London\", \"New York\", \"Tokyo\", \"Sydney\", \"Paris\"]\n",
    "weather_data = []\n",
    "\n",
    "for city in cities:\n",
    "    url = f\"https://wttr.in/{city}?format=j1\"\n",
    "    response = requests.get(url)\n",
    "    data = response.json()\n",
    "    \n",
    "    current_condition = data['current_condition'][0]\n",
    "    description = current_condition['weatherDesc'][0]['value']\n",
    "    temp_c = current_condition['temp_C']\n",
    "    \n",
    "    weather_data.append({\n",
    "        'City': city,\n",
    "        'Description': description,\n",
    "        'Temperature (C)': temp_c\n",
    "    })\n",
    "\n",
    "df = pd.DataFrame(weather_data)\n",
    "print(df)"
   ]
  },
  {
   "cell_type": "markdown",
   "id": "4d7380e7",
   "metadata": {},
   "source": [
    "## 3) From the “Real Python Fake Jobs” board (https://realpython.github.io/fake-jobs/), gather all job titles, companies, and locations listed on the page. Save the results as a CSV file."
   ]
  },
  {
   "cell_type": "code",
   "execution_count": 3,
   "id": "d5434052",
   "metadata": {},
   "outputs": [
    {
     "name": "stdout",
     "output_type": "stream",
     "text": [
      "Scraping complete. Data saved to fake_jobs.csv\n",
      "Found 100 jobs.\n",
      "                     Title                     Company              Location\n",
      "0  Senior Python Developer    Payne, Roberts and Davis       Stewartbury, AA\n",
      "1          Energy engineer            Vasquez-Davidson  Christopherville, AA\n",
      "2          Legal executive  Jackson, Chambers and Levy   Port Ericaburgh, AA\n",
      "3   Fitness centre manager              Savage-Bradley     East Seanview, AP\n",
      "4          Product manager                 Ramirez Inc   North Jamieview, AP\n"
     ]
    }
   ],
   "source": [
    "import requests\n",
    "from bs4 import BeautifulSoup\n",
    "import pandas as pd\n",
    "\n",
    "URL = \"https://realpython.github.io/fake-jobs/\"\n",
    "response = requests.get(URL)\n",
    "soup = BeautifulSoup(response.content, \"html.parser\")\n",
    "\n",
    "results = soup.find(id=\"ResultsContainer\")\n",
    "job_elements = results.find_all(\"div\", class_=\"card-content\")\n",
    "job_data = []\n",
    "\n",
    "for job_element in job_elements:\n",
    "    title_element = job_element.find(\"h2\", class_=\"title\")\n",
    "    company_element = job_element.find(\"h3\", class_=\"company\")\n",
    "    location_element = job_element.find(\"p\", class_=\"location\")\n",
    "    \n",
    "    job_data.append({\n",
    "        'Title': title_element.text.strip(),\n",
    "        'Company': company_element.text.strip(),\n",
    "        'Location': location_element.text.strip()\n",
    "    })\n",
    "\n",
    "df = pd.DataFrame(job_data)\n",
    "df.to_csv(\"fake_jobs.csv\", index=False)\n",
    "\n",
    "print(\"Scraping complete. Data saved to fake_jobs.csv\")\n",
    "print(f\"Found {len(df)} jobs.\")\n",
    "print(df.head())"
   ]
  },
  {
   "cell_type": "code",
   "execution_count": null,
   "id": "e7643407-5c54-4a82-963d-a95b16ae9990",
   "metadata": {},
   "outputs": [],
   "source": []
  }
 ],
 "metadata": {
  "kernelspec": {
   "display_name": "Python [conda env:base] *",
   "language": "python",
   "name": "conda-base-py"
  },
  "language_info": {
   "codemirror_mode": {
    "name": "ipython",
    "version": 3
   },
   "file_extension": ".py",
   "mimetype": "text/x-python",
   "name": "python",
   "nbconvert_exporter": "python",
   "pygments_lexer": "ipython3",
   "version": "3.13.5"
  }
 },
 "nbformat": 4,
 "nbformat_minor": 5
}
